{
 "cells": [
  {
   "cell_type": "code",
   "execution_count": 20,
   "metadata": {},
   "outputs": [],
   "source": [
    "import os\n",
    "import csv\n",
    "import pandas as pd"
   ]
  },
  {
   "cell_type": "code",
   "execution_count": 21,
   "metadata": {},
   "outputs": [
    {
     "name": "stdout",
     "output_type": "stream",
     "text": [
      "['Data', 'Hora UTC', 'PRECIPITAÇÃO TOTAL, HORÁRIO (mm)', 'PRESSAO ATMOSFERICA AO NIVEL DA ESTACAO, HORARIA (mB)', 'PRESSÃO ATMOSFERICA MAX.NA HORA ANT. (AUT) (mB)', 'PRESSÃO ATMOSFERICA MIN. NA HORA ANT. (AUT) (mB)', 'RADIACAO GLOBAL (Kj/m)', 'TEMPERATURA DO AR - BULBO SECO, HORARIA (C)', 'TEMPERATURA DO PONTO DE ORVALHO (C)', 'TEMPERATURA MÁXIMA NA HORA ANT. (AUT) (C)', 'TEMPERATURA MÍNIMA NA HORA ANT. (AUT) (C)', 'TEMPERATURA ORVALHO MAX. NA HORA ANT. (AUT) (C)', 'TEMPERATURA ORVALHO MIN. NA HORA ANT. (AUT) (C)', 'UMIDADE REL. MAX. NA HORA ANT. (AUT) (%)', 'UMIDADE REL. MIN. NA HORA ANT. (AUT) (%)', 'UMIDADE RELATIVA DO AR, HORARIA (%)', 'VENTO, DIREÇÃO HORARIA (gr) ( (gr))', 'VENTO, RAJADA MAXIMA (m/s)', 'VENTO, VELOCIDADE HORARIA (m/s)']\n"
     ]
    }
   ],
   "source": [
    "nome_do_arquivo = './dataset/2022/INMET_SE_MG_A502_BARBACENA_01-01-2022_A_31-12-2022.CSV'  # Substitua pelo nome do seu arquivo\n",
    "# Abre o arquivo em modo de leitura\n",
    "nona_linha = ''\n",
    "with open(nome_do_arquivo, 'r', encoding='latin-1') as arquivo:\n",
    "    # Pula as primeiras 8 linhas\n",
    "    for _ in range(8):\n",
    "        next(arquivo)\n",
    "\n",
    "    # Lê a nona linha\n",
    "    nona_linha = arquivo.readline().strip()\n",
    "nona_linha = nona_linha.replace('°', '').replace('²', '').split(';')\n",
    "nona_linha.pop()\n",
    "nona_linha.append('CODIGO')\n",
    "print(nona_linha)"
   ]
  },
  {
   "cell_type": "code",
   "execution_count": 22,
   "metadata": {},
   "outputs": [
    {
     "name": "stdout",
     "output_type": "stream",
     "text": [
      "Empty DataFrame\n",
      "Columns: [Data, Hora UTC, PRECIPITAÇÃO TOTAL, HORÁRIO (mm), PRESSAO ATMOSFERICA AO NIVEL DA ESTACAO, HORARIA (mB), PRESSÃO ATMOSFERICA MAX.NA HORA ANT. (AUT) (mB), PRESSÃO ATMOSFERICA MIN. NA HORA ANT. (AUT) (mB), RADIACAO GLOBAL (Kj/m), TEMPERATURA DO AR - BULBO SECO, HORARIA (C), TEMPERATURA DO PONTO DE ORVALHO (C), TEMPERATURA MÁXIMA NA HORA ANT. (AUT) (C), TEMPERATURA MÍNIMA NA HORA ANT. (AUT) (C), TEMPERATURA ORVALHO MAX. NA HORA ANT. (AUT) (C), TEMPERATURA ORVALHO MIN. NA HORA ANT. (AUT) (C), UMIDADE REL. MAX. NA HORA ANT. (AUT) (%), UMIDADE REL. MIN. NA HORA ANT. (AUT) (%), UMIDADE RELATIVA DO AR, HORARIA (%), VENTO, DIREÇÃO HORARIA (gr) ( (gr)), VENTO, RAJADA MAXIMA (m/s), VENTO, VELOCIDADE HORARIA (m/s)]\n",
      "Index: []\n"
     ]
    }
   ],
   "source": [
    "df = pd.DataFrame(columns = nona_linha)\n",
    "print(df)"
   ]
  },
  {
   "cell_type": "code",
   "execution_count": null,
   "metadata": {},
   "outputs": [],
   "source": [
    "pasta = './dataset/2010'\n",
    "# Lista todos os arquivos .CSV na pasta\n",
    "arquivos_csv = [arquivo for arquivo in os.listdir(pasta) if arquivo.endswith('.CSV')]\n",
    "\n",
    "# Para cada arquivo .CSV, leia todas as linhas após as primeiras 9\n",
    "for arquivo_csv in arquivos_csv:\n",
    "    caminho_completo = os.path.join(pasta, arquivo_csv)\n",
    "\n",
    "    with open(caminho_completo, 'r', encoding='latin-1') as arquivo:\n",
    "        # Pule as primeiras 9 linhas\n",
    "        for _ in range(9):\n",
    "            next(arquivo)\n",
    "\n",
    "        # Leia todas as linhas restantes e adicione ao DataFrame\n",
    "        linhas_restantes = arquivo.readlines()\n",
    "        for linha in linhas_restantes:\n",
    "            lista = linha.strip().split(\";\")\n",
    "            lista.pop()\n",
    "            df.loc[len(df)] = lista\n",
    "\n",
    "# Exibe o DataFrame resultante\n",
    "print(df)\n"
   ]
  },
  {
   "cell_type": "code",
   "execution_count": 24,
   "metadata": {},
   "outputs": [],
   "source": [
    "csv_file_path = './dataset/2010.csv'\n",
    "\n",
    "# Write the DataFrame to a CSV file\n",
    "df.to_csv(csv_file_path, index=False)"
   ]
  }
 ],
 "metadata": {
  "kernelspec": {
   "display_name": "Python 3",
   "language": "python",
   "name": "python3"
  },
  "language_info": {
   "codemirror_mode": {
    "name": "ipython",
    "version": 3
   },
   "file_extension": ".py",
   "mimetype": "text/x-python",
   "name": "python",
   "nbconvert_exporter": "python",
   "pygments_lexer": "ipython3",
   "version": "3.10.12"
  }
 },
 "nbformat": 4,
 "nbformat_minor": 2
}
