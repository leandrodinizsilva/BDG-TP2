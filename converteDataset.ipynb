{
 "cells": [
  {
   "cell_type": "code",
   "execution_count": 30,
   "metadata": {},
   "outputs": [],
   "source": [
    "import os\n",
    "import csv\n",
    "import pandas as pd"
   ]
  },
  {
   "cell_type": "code",
   "execution_count": 31,
   "metadata": {},
   "outputs": [
    {
     "name": "stdout",
     "output_type": "stream",
     "text": [
      "Dados combinados salvos em ./dataset/2010.csv\n"
     ]
    }
   ],
   "source": [
    "pasta = './dataset/2010'\n",
    "output_file = './dataset/2010.csv'\n",
    "\n",
    "# Lista todos os arquivos .CSV na pasta\n",
    "arquivos_csv = [arquivo for arquivo in os.listdir(pasta) if arquivo.endswith('.CSV')]\n",
    "\n",
    "# Cria um DataFrame vazio para armazenar os dados combinados\n",
    "df_combined = pd.DataFrame()\n",
    "\n",
    "# Itera sobre cada arquivo .CSV\n",
    "for arquivo_csv in arquivos_csv:\n",
    "    caminho_completo = os.path.join(pasta, arquivo_csv)\n",
    "    codigo = arquivo_csv[12:16]\n",
    "\n",
    "    # Lê o arquivo pulando as 8 primeiras linhas\n",
    "    df_temp = pd.read_csv(caminho_completo, skiprows=8, delimiter=';', encoding='latin-1')\n",
    "    df_temp['CODIGO'] = codigo\n",
    "\n",
    "    # Adiciona o DataFrame temporário ao DataFrame combinado\n",
    "    df_combined = pd.concat([df_combined, df_temp], ignore_index=True)\n",
    "\n",
    "# Salva o DataFrame combinado em um novo arquivo CSV\n",
    "df_combined.to_csv(output_file, index=False)\n",
    "\n",
    "print(f\"Dados combinados salvos em {output_file}\")\n"
   ]
  }
 ],
 "metadata": {
  "kernelspec": {
   "display_name": "Python 3",
   "language": "python",
   "name": "python3"
  },
  "language_info": {
   "codemirror_mode": {
    "name": "ipython",
    "version": 3
   },
   "file_extension": ".py",
   "mimetype": "text/x-python",
   "name": "python",
   "nbconvert_exporter": "python",
   "pygments_lexer": "ipython3",
   "version": "3.10.12"
  }
 },
 "nbformat": 4,
 "nbformat_minor": 2
}
