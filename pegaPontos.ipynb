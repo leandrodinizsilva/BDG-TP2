{
 "cells": [
  {
   "cell_type": "code",
   "execution_count": 14,
   "metadata": {},
   "outputs": [],
   "source": [
    "import os\n",
    "import csv\n",
    "import pandas as pd"
   ]
  },
  {
   "cell_type": "code",
   "execution_count": 17,
   "metadata": {},
   "outputs": [
    {
     "name": "stdout",
     "output_type": "stream",
     "text": [
      "Empty DataFrame\n",
      "Columns: [REGIAO, UF, ESTACAO, CODIGO, LATITUDE, LONGITUDE, ALTITUDE, DATA_DE_FUNDACAO]\n",
      "Index: []\n"
     ]
    }
   ],
   "source": [
    "df = pd.DataFrame(columns = [\"REGIAO\", \"UF\", \"ESTACAO\", \"CODIGO\", \"LATITUDE\", \"LONGITUDE\", \"ALTITUDE\", \"DATA_DE_FUNDACAO\"])\n",
    "print(df)"
   ]
  },
  {
   "cell_type": "code",
   "execution_count": 28,
   "metadata": {},
   "outputs": [
    {
     "name": "stdout",
     "output_type": "stream",
     "text": [
      "['SE', 'MG', 'AGUAS VERMELHAS', 'A549', '-15', '-41', '754', '09/09/07']\n",
      "['SE', 'MG', 'BELO HORIZONTE - CERCADINHO', 'F501', '-19', '-43', '1199', '27/12/13']\n",
      "['SE', 'MG', 'UBERLANDIA', 'A507', '-18', '-48', '874', '18/12/02']\n",
      "['SE', 'MG', 'ARACUAI', 'A566', '-16', '-42', '308', '19/05/17']\n",
      "['SE', 'MG', 'CAMPINA VERDE', 'A519', '-19', '-49', '559', '15/07/06']\n",
      "['SE', 'MG', 'PIRAPORA', 'A545', '-17', '-44', '505', '04/07/07']\n",
      "['SE', 'MG', 'CALDAS', 'A530', '-21', '-46', '1077', '28/11/06']\n",
      "['SE', 'MG', 'ITUIUTABA', 'A512', '-18', '-49', '540', '12/05/06']\n",
      "['SE', 'MG', 'MARIA DA FE', 'A531', '-22', '-45', '1281', '01/12/06']\n",
      "['SE', 'MG', 'MANHUACU', 'A556', '-20', '-42', '819', '25/09/10']\n",
      "['SE', 'MG', 'BAMBUI', 'A565', '-20', '-46', '697', '23/11/16']\n",
      "['SE', 'MG', 'MONTALVANIA', 'A526', '-14', '-44', '519', '26/06/07']\n",
      "['SE', 'MG', 'TIMOTEO', 'A511', '-19', '-42', '493', '22/02/06']\n",
      "['SE', 'MG', 'UBERABA', 'A568', '-19', '-47', '778', '19/05/17']\n",
      "['SE', 'MG', 'GUANHAES', 'A533', '-18', '-42', '852', '02/06/07']\n",
      "['SE', 'MG', 'DORES DO INDAIA', 'A536', '-19', '-45', '721', '01/06/07']\n",
      "['SE', 'MG', 'FLORESTAL', 'A535', '-19', '-44', '753', '27/06/08']\n",
      "['SE', 'MG', 'ITAOBIM', 'A550', '-16', '-41', '271', '05/09/07']\n",
      "['SE', 'MG', 'PASSOS', 'A516', '-20', '-46', '781', '16/07/06']\n",
      "['SE', 'MG', 'VARGINHA', 'A515', '-21', '-45', '949', '13/07/06']\n",
      "['SE', 'MG', 'DIAMANTINA', 'A537', '-18', '-43', '1359', '05/06/07']\n",
      "['SE', 'MG', 'PATOS DE MINAS', 'A562', '-18', '-46', '950', '12/05/17']\n",
      "['SE', 'MG', 'IBIRITE (ROLA MOCA)', 'A555', '-20', '-44', '1198', '06/06/08']\n",
      "['SE', 'MG', 'SAO SEBASTIAO DO PARAISO', 'A561', '-20', '-47', '845', '17/08/15']\n",
      "['SE', 'MG', 'SAO ROMAO', 'A547', '-16', '-45', '490', '30/06/07']\n",
      "['SE', 'MG', 'SETE LAGOAS', 'A569', '-19', '-44', '719', '10/06/16']\n",
      "['SE', 'MG', 'GUARDA-MOR', 'A546', '-17', '-47', '997', '11/07/07']\n",
      "['SE', 'MG', 'BARBACENA', 'A502', '-21', '-43', '1168', '05/12/02']\n",
      "['SE', 'MG', 'CHAPADA GAUCHA', 'A548', '-15', '-45', '873', '22/06/07']\n",
      "['SE', 'MG', 'SACRAMENTO', 'A525', '-19', '-47', '913', '19/08/06']\n",
      "['SE', 'MG', 'OLIVEIRA', 'A570', '-20', '-44', '1025', '19/10/17']\n",
      "['SE', 'MG', 'MACHADO', 'A567', '-21', '-45', '969', '21/07/17']\n",
      "['SE', 'MG', 'ALMENARA', 'A508', '-16', '-40', '189', '15/12/02']\n",
      "['SE', 'MG', 'FORMIGA', 'A524', '-20', '-45', '878', '17/08/06']\n",
      "['SE', 'MG', 'AIMORES', 'A534', '-19', '-41', '287', '05/08/07']\n",
      "['SE', 'MG', 'BELO HORIZONTE (PAMPULHA)', 'A521', '-19', '-43', '854', '10/10/06']\n",
      "['SE', 'MG', 'JUIZ DE FORA', 'A518', '-21', '-43', '936', '26/05/07']\n",
      "['SE', 'MG', 'PARACATU', 'A571', '-17', '-46', '705', '16/03/18']\n",
      "['SE', 'MG', 'CORONEL PACHECO', 'A557', '-21', '-43', '411', '17/10/12']\n",
      "['SE', 'MG', 'CARATINGA', 'A554', '-19', '-42', '609', '24/05/07']\n",
      "['SE', 'MG', 'POMPEU', 'A560', '-19', '-44', '705', '21/08/15']\n",
      "['SE', 'MG', 'NOVA PORTEIRINHA (JANAUBA)', 'A563', '-15', '-43', '532', '19/11/16']\n",
      "['SE', 'MG', 'ARAXA', 'A505', '-19', '-46', '1018', '19/12/02']\n",
      "['SE', 'MG', 'JANUARIA', 'A559', '-15', '-44', '468', '23/06/16']\n",
      "['SE', 'MG', 'CURVELO', 'A538', '-18', '-44', '669', '18/12/06']\n",
      "['SE', 'MG', 'OURO BRANCO', 'A513', '-20', '-43', '1048', '28/07/06']\n",
      "['SE', 'MG', 'SERRA DOS AIMORES', 'A522', '-17', '-40', '211', '21/08/06']\n",
      "['SE', 'MG', 'PASSA QUATRO', 'A529', '-22', '-44', '1017', '30/05/07']\n",
      "['SE', 'MG', 'GOVERNADOR VALADARES', 'A532', '-18', '-41', '198', '27/05/07']\n",
      "['SE', 'MG', 'RIO PARDO DE MINAS', 'A551', '-15', '-42', '850', '17/11/07']\n",
      "['SE', 'MG', 'BURITIS', 'A544', '-15', '-46', '894', '19/06/07']\n",
      "['SE', 'MG', 'MONTE VERDE', 'A509', '-22', '-46', '1544', '19/12/04']\n",
      "['SE', 'MG', 'SAO JOAO DEL REI', 'A514', '-21', '-44', '929', '09/06/06']\n",
      "['SE', 'MG', 'SALINAS', 'A552', '-16', '-42', '487', '14/09/07']\n",
      "['SE', 'MG', 'ESPINOSA', 'A543', '-14', '-42', '565', '14/11/07']\n",
      "['SE', 'MG', 'VICOSA', 'A510', '-20', '-42', '697', '15/09/05']\n",
      "['SE', 'MG', 'MURIAE', 'A517', '-21', '-42', '282', '30/08/06']\n",
      "['SE', 'MG', 'JOAO PINHEIRO', 'A553', '-17', '-46', '877', '07/07/07']\n",
      "['SE', 'MG', 'CONCEICAO DAS ALAGOAS', 'A520', '-19', '-48', '572', '18/07/06']\n",
      "['SE', 'MG', 'MOCAMBINHO', 'A539', '-15', '-44', '454', '11/11/07']\n",
      "['SE', 'MG', 'TRES MARIAS', 'A528', '-18', '-45', '931', '25/08/06']\n",
      "['SE', 'MG', 'CAPELINHA', 'A541', '-17', '-42', '932', '31/08/07']\n",
      "['SE', 'MG', 'TEOFILO OTONI', 'A527', '-17', '-41', '467', '25/08/06']\n",
      "['SE', 'MG', 'PATROCINIO', 'A523', '-18', '-46', '978', '22/08/06']\n",
      "['SE', 'MG', 'MONTES CLAROS', 'A506', '-16', '-43', '645', '19/12/02']\n",
      "['SE', 'MG', 'MANTENA', 'A540', '-18', '-40', '254', '01/08/07']\n",
      "['SE', 'MG', 'UNAI', 'A542', '-16', '-46', '640', '16/06/07']\n",
      "['SE', 'MG', 'DIVINOPOLIS', 'A564', '-20', '-44', '796', '26/10/17']\n"
     ]
    }
   ],
   "source": [
    "\n",
    "\n",
    "pasta = './dataset/2022'  # Substitua pelo caminho real da sua pasta\n",
    "# Lista todos os arquivos .CSV na pasta\n",
    "arquivos_csv = [arquivo for arquivo in os.listdir(pasta) if arquivo.endswith('.CSV')]\n",
    "\n",
    "# Para cada arquivo .CSV, leia as primeiras 8 linhas\n",
    "for arquivo_csv in arquivos_csv:\n",
    "    caminho_completo = os.path.join(pasta, arquivo_csv)\n",
    "    \n",
    "    with open(caminho_completo, 'r', encoding='latin-1') as arquivo:\n",
    "        leitor_csv = csv.reader(arquivo)\n",
    "        \n",
    "        # Leia as primeiras 8 linhas\n",
    "        lista = []\n",
    "        for _ in range(8):\n",
    "            linha = next(leitor_csv, None)\n",
    "            if linha is not None:\n",
    "                lista.append(linha[0].split(\":;\")[1])\n",
    "        df.loc[len(df)] = lista\n",
    "        print(lista)\n"
   ]
  },
  {
   "cell_type": "code",
   "execution_count": 29,
   "metadata": {},
   "outputs": [
    {
     "name": "stdout",
     "output_type": "stream",
     "text": [
      "   REGIAO  UF                      ESTACAO CODIGO LATITUDE LONGITUDE ALTITUDE  \\\n",
      "0      SE  MG              AGUAS VERMELHAS   A549      -15       -41      754   \n",
      "1      SE  MG  BELO HORIZONTE - CERCADINHO   F501      -19       -43     1199   \n",
      "2      SE  MG                   UBERLANDIA   A507      -18       -48      874   \n",
      "3      SE  MG                      ARACUAI   A566      -16       -42      308   \n",
      "4      SE  MG                CAMPINA VERDE   A519      -19       -49      559   \n",
      "..    ...  ..                          ...    ...      ...       ...      ...   \n",
      "63     SE  MG                   PATROCINIO   A523      -18       -46      978   \n",
      "64     SE  MG                MONTES CLAROS   A506      -16       -43      645   \n",
      "65     SE  MG                      MANTENA   A540      -18       -40      254   \n",
      "66     SE  MG                         UNAI   A542      -16       -46      640   \n",
      "67     SE  MG                  DIVINOPOLIS   A564      -20       -44      796   \n",
      "\n",
      "   DATA_DE_FUNDACAO  \n",
      "0          09/09/07  \n",
      "1          27/12/13  \n",
      "2          18/12/02  \n",
      "3          19/05/17  \n",
      "4          15/07/06  \n",
      "..              ...  \n",
      "63         22/08/06  \n",
      "64         19/12/02  \n",
      "65         01/08/07  \n",
      "66         16/06/07  \n",
      "67         26/10/17  \n",
      "\n",
      "[68 rows x 8 columns]\n"
     ]
    }
   ],
   "source": [
    "print(df)"
   ]
  },
  {
   "cell_type": "code",
   "execution_count": 30,
   "metadata": {},
   "outputs": [],
   "source": [
    "csv_file_path = './dataset/estacoes.csv'\n",
    "\n",
    "# Write the DataFrame to a CSV file\n",
    "df.to_csv(csv_file_path, index=False)"
   ]
  }
 ],
 "metadata": {
  "kernelspec": {
   "display_name": "Python 3",
   "language": "python",
   "name": "python3"
  },
  "language_info": {
   "codemirror_mode": {
    "name": "ipython",
    "version": 3
   },
   "file_extension": ".py",
   "mimetype": "text/x-python",
   "name": "python",
   "nbconvert_exporter": "python",
   "pygments_lexer": "ipython3",
   "version": "3.10.12"
  }
 },
 "nbformat": 4,
 "nbformat_minor": 2
}
