{
 "cells": [
  {
   "cell_type": "code",
   "execution_count": 7,
   "metadata": {},
   "outputs": [],
   "source": [
    "import os\n",
    "import csv\n",
    "import pandas as pd"
   ]
  },
  {
   "cell_type": "code",
   "execution_count": 8,
   "metadata": {},
   "outputs": [
    {
     "name": "stdout",
     "output_type": "stream",
     "text": [
      "Empty DataFrame\n",
      "Columns: [REGIAO, UF, ESTACAO, CODIGO, LATITUDE, LONGITUDE, ALTITUDE, DATA_DE_FUNDACAO]\n",
      "Index: []\n"
     ]
    }
   ],
   "source": [
    "df = pd.DataFrame(columns = [\"REGIAO\", \"UF\", \"ESTACAO\", \"CODIGO\", \"LATITUDE\", \"LONGITUDE\", \"ALTITUDE\", \"DATA_DE_FUNDACAO\"])\n",
    "print(df)"
   ]
  },
  {
   "cell_type": "code",
   "execution_count": 9,
   "metadata": {},
   "outputs": [
    {
     "name": "stdout",
     "output_type": "stream",
     "text": [
      "['SE', 'MG', 'BARBACENA', 'A502', '-21,22833332', '-43,76777777', '1168,76', '05/12/02']\n",
      "['SE', 'MG', 'ARAXA', 'A505', '-19,60583333', '-46,94972221', '1018,32', '19/12/02']\n",
      "['SE', 'MG', 'MONTES CLAROS', 'A506', '-16,68638888', '-43,84388888', '645,87', '19/12/02']\n",
      "['SE', 'MG', 'UBERLANDIA', 'A507', '-18,91694443', '-48,25555555', '874,77', '18/12/02']\n",
      "['SE', 'MG', 'ALMENARA', 'A508', '-16,16666666', '-40,68777777', '189,11', '15/12/02']\n",
      "['SE', 'MG', 'MONTE VERDE', 'A509', '-22,86166666', '-46,04333333', '1544,89', '19/12/04']\n",
      "['SE', 'MG', 'VICOSA', 'A510', '-20,762607', '-42,864013', '697,64', '15/09/05']\n",
      "['SE', 'MG', 'TIMOTEO', 'A511', '-19,57388888', '-42,62249999', '493,42', '22/02/06']\n",
      "['SE', 'MG', 'ITUIUTABA', 'A512', '-18,95277777', '-49,52499999', '540,08', '12/05/06']\n",
      "['SE', 'MG', 'OURO BRANCO', 'A513', '-20,55666666', '-43,75611111', '1048,2', '28/07/06']\n",
      "['SE', 'MG', 'SAO JOAO DEL REI', 'A514', '-21,106502', '-44,250928', '929,88', '09/06/06']\n",
      "['SE', 'MG', 'VARGINHA', 'A515', '-21,56638888', '-45,40416666', '949,78', '13/07/06']\n",
      "['SE', 'MG', 'PASSOS', 'A516', '-20,745237', '-46,633916', '781,7', '16/07/06']\n",
      "['SE', 'MG', 'MURIAE', 'A517', '-21,105', '-42,37583332', '282,79', '30/08/06']\n",
      "['SE', 'MG', 'JUIZ DE FORA', 'A518', '-21,769965', '-43,364329', '936,88', '26/05/07']\n",
      "['SE', 'MG', 'CAMPINA VERDE', 'A519', '-19,53921', '-49,518133', '559,07', '15/07/06']\n",
      "['SE', 'MG', 'CONCEICAO DAS ALAGOAS', 'A520', '-19,98586', '-48,151574', '572,54', '18/07/06']\n",
      "['SE', 'MG', 'BELO HORIZONTE (PAMPULHA)', 'A521', '-19,88388888', '-43,96944443', '854,02', '10/10/06']\n",
      "['SE', 'MG', 'SERRA DOS AIMORES', 'A522', '-17,79888888', '-40,25', '211,97', '21/08/06']\n",
      "['SE', 'MG', 'PATROCINIO', 'A523', '-18,996684', '-46,985935', '978,11', '22/08/06']\n",
      "['SE', 'MG', 'FORMIGA', 'A524', '-20,455', '-45,45388888', '878,14', '17/08/06']\n",
      "['SE', 'MG', 'SACRAMENTO', 'A525', '-19,87527777', '-47,43416666', '913,12', '19/08/06']\n",
      "['SE', 'MG', 'MONTALVANIA', 'A526', '-14,40833333', '-44,40416666', '519,52', '26/06/07']\n",
      "['SE', 'MG', 'TEOFILO OTONI', 'A527', '-17,89284', '-41,515423', '467,17', '25/08/06']\n",
      "['SE', 'MG', 'TRES MARIAS', 'A528', '-18,200855', '-45,459836', '931,01', '25/08/06']\n",
      "['SE', 'MG', 'PASSA QUATRO', 'A529', '-22,395799', '-44,961909', '1017,1', '30/05/07']\n",
      "['SE', 'MG', 'CALDAS', 'A530', '-21,918066', '-46,382996', '1077,34', '28/11/06']\n",
      "['SE', 'MG', 'MARIA DA FE', 'A531', '-22,314567', '-45,373049', '1281,43', '01/12/06']\n",
      "['SE', 'MG', 'GOVERNADOR VALADARES', 'A532', '-18,830354', '-41,977007', '198,24', '27/05/07']\n",
      "['SE', 'MG', 'GUANHAES', 'A533', '-18,78694444', '-42,94305555', '852,68', '02/06/07']\n",
      "['SE', 'MG', 'AIMORES', 'A534', '-19,53277777', '-41,09083333', '287,74', '05/08/07']\n",
      "['SE', 'MG', 'FLORESTAL', 'A535', '-19,88527777', '-44,41694443', '753,5', '27/06/08']\n",
      "['SE', 'MG', 'DORES DO INDAIA', 'A536', '-19,481935', '-45,593932', '721,09', '01/06/07']\n",
      "['SE', 'MG', 'DIAMANTINA', 'A537', '-18,231052', '-43,648269', '1359,25', '05/06/07']\n",
      "['SE', 'MG', 'CURVELO', 'A538', '-18,747711', '-44,453785', '669,48', '18/12/06']\n",
      "['SE', 'MG', 'MOCAMBINHO', 'A539', '-15,085958', '-44,016036', '454', '11/11/07']\n",
      "['SE', 'MG', 'MANTENA', 'A540', '-18,78062', '-40,986505', '254,91', '01/08/07']\n",
      "['SE', 'MG', 'CAPELINHA', 'A541', '-17,70555555', '-42,38916666', '932,06', '31/08/07']\n",
      "['SE', 'MG', 'UNAI', 'A542', '-16,55416666', '-46,88194443', '640,85', '16/06/07']\n",
      "['SE', 'MG', 'ESPINOSA', 'A543', '-14,91222222', '-42,80861111', '565,36', '14/11/07']\n",
      "['SE', 'MG', 'BURITIS', 'A544', '-15,52416666', '-46,43555555', '894', '19/06/07']\n",
      "['SE', 'MG', 'PIRAPORA', 'A545', '-17,258064', '-44,835556', '505,32', '04/07/07']\n",
      "['SE', 'MG', 'GUARDA-MOR', 'A546', '-17,56138888', '-47,19916666', '997,01', '11/07/07']\n",
      "['SE', 'MG', 'SAO ROMAO', 'A547', '-16,36277777', '-45,12388888', '490,29', '30/06/07']\n",
      "['SE', 'MG', 'CHAPADA GAUCHA', 'A548', '-15,30027777', '-45,61749999', '873,2', '22/06/07']\n",
      "['SE', 'MG', 'AGUAS VERMELHAS', 'A549', '-15,751536', '-41,457787', '754,07', '09/09/07']\n",
      "['SE', 'MG', 'ITAOBIM', 'A550', '-16,575667', '-41,485588', '271,63', '05/09/07']\n",
      "['SE', 'MG', 'RIO PARDO DE MINAS', 'A551', '-15,72305554', '-42,43583333', '850,06', '17/11/07']\n",
      "['SE', 'MG', 'SALINAS', 'A552', '-16,16027777', '-42,31027777', '487,14', '14/09/07']\n",
      "['SE', 'MG', 'JOAO PINHEIRO', 'A553', '-17,78444444', '-46,11944443', '877,05', '07/07/07']\n",
      "['SE', 'MG', 'CARATINGA', 'A554', '-19,735757', '-42,137146', '609,25', '24/05/07']\n",
      "['SE', 'MG', 'IBIRITE (ROLA MOCA)', 'A555', '-20,031457', '-44,011249', '1198,82', '06/06/08']\n",
      "['SE', 'MG', 'MANHUACU', 'A556', '-20,26333333', '-42,18277777', '819,47', '25/09/10']\n",
      "['SE', 'MG', 'CORONEL PACHECO', 'A557', '-21,54666666', '-43,26111111', '411,14', '17/10/12']\n",
      "['SE', 'MG', 'JANUARIA', 'A559', '-15,448089', '-44,366313', '468', '23/06/16']\n",
      "['SE', 'MG', 'POMPEU', 'A560', '-19,23249999', '-44,96416666', '705', '21/08/15']\n",
      "['SE', 'MG', 'SAO SEBASTIAO DO PARAISO', 'A561', '-20,91', '-47,11416666', '845', '17/08/15']\n",
      "['SE', 'MG', 'PATOS DE MINAS', 'A562', '-18,52055554', '-46,44055555', '950', '12/05/17']\n",
      "['SE', 'MG', 'NOVA PORTEIRINHA (JANAUBA)', 'A563', '-15,80277777', '-43,29694444', '532', '19/11/16']\n",
      "['SE', 'MG', 'DIVINOPOLIS', 'A564', '-20,17333332', '-44,87499999', '796', '26/10/17']\n",
      "['SE', 'MG', 'BAMBUI', 'A565', '-20,0311111', '-46,00888888', '697', '23/11/16']\n",
      "['SE', 'MG', 'ARACUAI', 'A566', '-16,84888888', '-42,03527777', '308', '19/05/17']\n",
      "['SE', 'MG', 'MACHADO', 'A567', '-21,680722', '-45,944389', '969', '21/07/17']\n",
      "['SE', 'MG', 'UBERABA', 'A568', '-19,71', '-47,96194444', '778', '19/05/17']\n",
      "['SE', 'MG', 'SETE LAGOAS', 'A569', '-19,45527777', '-44,17333332', '719', '10/06/16']\n",
      "['SE', 'MG', 'OLIVEIRA', 'A570', '-20,715', '-44,86444444', '1025', '19/10/17']\n",
      "['SE', 'MG', 'PARACATU', 'A571', '-17,24444444', '-46,88166666', '705', '16/03/18']\n",
      "['SE', 'MG', 'BELO HORIZONTE - CERCADINHO', 'F501', '-19,97999999', '-43,95861111', '1199,55', '27/12/13']\n"
     ]
    }
   ],
   "source": [
    "\n",
    "\n",
    "pasta = './dataset/2022'  # Substitua pelo caminho real da sua pasta\n",
    "# Lista todos os arquivos .CSV na pasta\n",
    "arquivos_csv = [arquivo for arquivo in os.listdir(pasta) if arquivo.endswith('.CSV')]\n",
    "\n",
    "# Para cada arquivo .CSV, leia as primeiras 8 linhas\n",
    "for arquivo_csv in arquivos_csv:\n",
    "    caminho_completo = os.path.join(pasta, arquivo_csv)\n",
    "    \n",
    "    with open(caminho_completo, 'r', encoding='latin-1') as arquivo:\n",
    "        # Leia as primeiras 8 linhas\n",
    "        lista = []\n",
    "        for _ in range(8):\n",
    "            linha = arquivo.readline()\n",
    "            if linha is not None:\n",
    "                lista.append(linha.split(\":;\")[1].strip())\n",
    "        df.loc[len(df)] = lista\n",
    "        print(lista)\n"
   ]
  },
  {
   "cell_type": "code",
   "execution_count": 10,
   "metadata": {},
   "outputs": [
    {
     "name": "stdout",
     "output_type": "stream",
     "text": [
      "   REGIAO  UF                      ESTACAO CODIGO      LATITUDE     LONGITUDE  \\\n",
      "0      SE  MG                    BARBACENA   A502  -21,22833332  -43,76777777   \n",
      "1      SE  MG                        ARAXA   A505  -19,60583333  -46,94972221   \n",
      "2      SE  MG                MONTES CLAROS   A506  -16,68638888  -43,84388888   \n",
      "3      SE  MG                   UBERLANDIA   A507  -18,91694443  -48,25555555   \n",
      "4      SE  MG                     ALMENARA   A508  -16,16666666  -40,68777777   \n",
      "..    ...  ..                          ...    ...           ...           ...   \n",
      "63     SE  MG                      UBERABA   A568        -19,71  -47,96194444   \n",
      "64     SE  MG                  SETE LAGOAS   A569  -19,45527777  -44,17333332   \n",
      "65     SE  MG                     OLIVEIRA   A570       -20,715  -44,86444444   \n",
      "66     SE  MG                     PARACATU   A571  -17,24444444  -46,88166666   \n",
      "67     SE  MG  BELO HORIZONTE - CERCADINHO   F501  -19,97999999  -43,95861111   \n",
      "\n",
      "   ALTITUDE DATA_DE_FUNDACAO  \n",
      "0   1168,76         05/12/02  \n",
      "1   1018,32         19/12/02  \n",
      "2    645,87         19/12/02  \n",
      "3    874,77         18/12/02  \n",
      "4    189,11         15/12/02  \n",
      "..      ...              ...  \n",
      "63      778         19/05/17  \n",
      "64      719         10/06/16  \n",
      "65     1025         19/10/17  \n",
      "66      705         16/03/18  \n",
      "67  1199,55         27/12/13  \n",
      "\n",
      "[68 rows x 8 columns]\n"
     ]
    }
   ],
   "source": [
    "print(df)"
   ]
  },
  {
   "cell_type": "code",
   "execution_count": 11,
   "metadata": {},
   "outputs": [],
   "source": [
    "csv_file_path = './dataset/estacoes.csv'\n",
    "\n",
    "# Write the DataFrame to a CSV file\n",
    "df.to_csv(csv_file_path, index=False)"
   ]
  }
 ],
 "metadata": {
  "kernelspec": {
   "display_name": "Python 3",
   "language": "python",
   "name": "python3"
  },
  "language_info": {
   "codemirror_mode": {
    "name": "ipython",
    "version": 3
   },
   "file_extension": ".py",
   "mimetype": "text/x-python",
   "name": "python",
   "nbconvert_exporter": "python",
   "pygments_lexer": "ipython3",
   "version": "3.10.12"
  }
 },
 "nbformat": 4,
 "nbformat_minor": 2
}
